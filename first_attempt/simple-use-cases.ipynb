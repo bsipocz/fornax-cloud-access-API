{
 "cells": [
  {
   "cell_type": "markdown",
   "id": "d45888c3-d572-47d1-8637-20a109516616",
   "metadata": {},
   "source": [
    "## Introduction\n",
    "This notebook contains the basic use case of querying and downloading data from the three archives: HEASARC, MAST and IRSA using either `astroquery` or `pyvo`.\n",
    "\n",
    "In each case, a simple search for some source (`NGC 4151`) is done, and an attempt at downloading the data is made."
   ]
  },
  {
   "cell_type": "code",
   "execution_count": 1,
   "id": "12aac41f-6bad-404d-b4fb-a7c0e0dbbbd5",
   "metadata": {},
   "outputs": [],
   "source": [
    "import os\n",
    "import sys\n",
    "\n",
    "import astroquery\n",
    "import pyvo\n",
    "import astropy.coordinates as coord\n",
    "from astropy import units\n",
    "from astropy.utils.data import download_file"
   ]
  },
  {
   "cell_type": "markdown",
   "id": "1a6e518f-544e-40aa-9abe-7838d37024be",
   "metadata": {},
   "source": [
    "## Astroquery\n",
    "\n",
    "### Heasarc"
   ]
  },
  {
   "cell_type": "code",
   "execution_count": 2,
   "id": "c2f751b1-68b2-4d0d-a376-b58c44e2f552",
   "metadata": {},
   "outputs": [
    {
     "name": "stdout",
     "output_type": "stream",
     "text": [
      "['OBSID', 'STATUS', 'NAME', 'RA', 'DEC', 'TIME', 'DETECTOR', 'GRATING', 'EXPOSURE', 'TYPE', 'PI', 'PUBLIC_DATE', 'BII', 'CATEGORY', 'CLASS', 'CYCLE', 'DATA_MODE', 'LII', 'PROPOSAL', 'SEQUENCE_NUMBER', 'SEARCH_OFFSET_']\n"
     ]
    }
   ],
   "source": [
    "from astroquery import heasarc\n",
    "\n",
    "#tables = heasarc.Heasarc.query_mission_list()\n",
    "res_heasarc = heasarc.Heasarc.query_object('NGC 4151', mission='chanmaster', fields='All')\n",
    "print(res_heasarc.colnames)"
   ]
  },
  {
   "cell_type": "markdown",
   "id": "4e35ccf3-5259-4e67-a339-3f28855c07de",
   "metadata": {},
   "source": [
    "<p style=\"background:#fdd;border-color:#faa;border-style: solid;padding:10px\">\n",
    "<b>There is NO link to the data.</b>\n",
    "</p>"
   ]
  },
  {
   "cell_type": "markdown",
   "id": "4ca56438-448d-43e3-bb44-654d1659345c",
   "metadata": {},
   "source": [
    "### Mast"
   ]
  },
  {
   "cell_type": "code",
   "execution_count": 3,
   "id": "8eb4b7ad-f12b-4a25-b91f-b9c7c3cd8282",
   "metadata": {},
   "outputs": [
    {
     "name": "stdout",
     "output_type": "stream",
     "text": [
      "['intentType', 'obs_collection', 'provenance_name', 'instrument_name', 'project', 'filters', 'wavelength_region', 'target_name', 'target_classification', 'obs_id', 's_ra', 's_dec', 'dataproduct_type', 'proposal_pi', 'calib_level', 't_min', 't_max', 't_exptime', 'em_min', 'em_max', 'obs_title', 't_obs_release', 'proposal_id', 'proposal_type', 'sequence_number', 's_region', 'jpegURL', 'dataURL', 'dataRights', 'mtFlag', 'srcDen', 'obsid', 'distance']\n"
     ]
    }
   ],
   "source": [
    "from astroquery import mast\n",
    "\n",
    "res_mast = mast.Observations.query_object('NGC 4151')\n",
    "print(res_mast.colnames)"
   ]
  },
  {
   "cell_type": "code",
   "execution_count": 4,
   "id": "a2406b0e-716c-4012-8779-fe74e2bc5aa7",
   "metadata": {},
   "outputs": [],
   "source": [
    "# we have `dataURL` and `jpegURL`, so we can download the data.\n",
    "# download_file(res_mast[0]['dataURL'])"
   ]
  },
  {
   "cell_type": "markdown",
   "id": "e2fd8ea2-76cf-4874-85e6-7d5517d2a7a3",
   "metadata": {},
   "source": [
    "<br/>\n",
    "To get more products, we can call `mast.Observations.get_product_list`, which queries the mast API for a list of products given the `obs_id` extracted from the table returned by `mast.Observations.query_*`. Doing that, we obtain a list of all related data products, each having a `dataURI` field that starts with: `mast:...`"
   ]
  },
  {
   "cell_type": "code",
   "execution_count": 5,
   "id": "28a7d863-7e63-472b-8d26-64d9ad4a93bd",
   "metadata": {},
   "outputs": [
    {
     "name": "stdout",
     "output_type": "stream",
     "text": [
      "['obsID', 'obs_collection', 'dataproduct_type', 'obs_id', 'description', 'type', 'dataURI', 'productType', 'productGroupDescription', 'productSubGroupDescription', 'productDocumentationURL', 'project', 'prvversion', 'proposal_id', 'productFilename', 'size', 'parent_obsid', 'dataRights', 'calib_level']\n",
      "                                    dataURI                                    \n",
      "-------------------------------------------------------------------------------\n",
      "mast:WUPPE/url/pub/astro/wuppe/data/ngc4151_811611_2/ngc4151_811611_2_hw.txt.gz\n",
      "    mast:WUPPE/url/pub/browse/previews/astro/wuppe/gif/ngc4151_811611_2_hwa.gif\n",
      "    mast:WUPPE/url/pub/browse/previews/astro/wuppe/gif/ngc4151_811611_2_hwe.gif\n"
     ]
    }
   ],
   "source": [
    "prod = mast.Observations.get_product_list(res_mast[0])\n",
    "print(prod.colnames)\n",
    "print(prod['dataURI'][:3])"
   ]
  },
  {
   "cell_type": "markdown",
   "id": "cc839fd0-af39-4be2-ba84-1c270629d073",
   "metadata": {},
   "source": [
    "<br/>\n",
    "To convert the `dataURI` to an address, the `mast` module in `astroquery` prepends the address: `https://mast.stsci.edu/api/v0.1/Download/file?uri=` to download the data.\n",
    "\n",
    "<p style=\"background:#dfd;border-color:#afa;border-style: solid;padding:10px\">\n",
    "The same dataURI is used in `astroquey.mast` to obtain the cloud address by again calling an API at https://mast.stsci.edu/api/v0.1/path_lookup/ to convert the URI to a path. Given this path, and a hard-coded backet name, the full path to the file in the cloud is obtained.\n",
    "</p>"
   ]
  },
  {
   "cell_type": "markdown",
   "id": "c774a41e-7ac8-4f42-bece-b5c8223e7622",
   "metadata": {},
   "source": [
    "### IRSA"
   ]
  },
  {
   "cell_type": "code",
   "execution_count": 6,
   "id": "1ce1be68-3e8b-4a9c-b553-1cfc7bee4116",
   "metadata": {},
   "outputs": [
    {
     "name": "stdout",
     "output_type": "stream",
     "text": [
      "['designation', 'ra', 'dec', 'clon', 'clat', 'sigra', 'sigdec', 'sigradec', 'w1mpro', 'w1sigmpro', 'w1snr', 'w1rchi2', 'w2mpro', 'w2sigmpro', 'w2snr', 'w2rchi2', 'w3mpro', 'w3sigmpro', 'w3snr', 'w3rchi2', 'w4mpro', 'w4sigmpro', 'w4snr', 'w4rchi2', 'nb', 'na', 'w1sat', 'w2sat', 'w3sat', 'w4sat', 'pmra', 'sigpmra', 'pmdec', 'sigpmdec', 'cc_flags', 'ext_flg', 'var_flg', 'ph_qual', 'moon_lev', 'w1nm', 'w1m', 'w2nm', 'w2m', 'w3nm', 'w3m', 'w4nm', 'w4m', 'dist', 'angle']\n"
     ]
    }
   ],
   "source": [
    "from astroquery.ipac import irsa, ned\n",
    "\n",
    "pos = coord.SkyCoord.from_name(\"ngc 4151\")\n",
    "#irsa.Irsa.print_catalogs()\n",
    "res_irsa = irsa.Irsa.query_region(pos, radius=coord.Angle(1*units.arcmin), catalog='allwise_p3as_psd')\n",
    "print(res_irsa.colnames)"
   ]
  },
  {
   "cell_type": "markdown",
   "id": "ae813e64-1483-4d3e-84cc-8889c4a97dc0",
   "metadata": {
    "tags": []
   },
   "source": [
    "<p style=\"background:#fdd;border-color:#faa;border-style: solid;padding:10px\">\n",
    "It looks like only catalogs are available through astroquery. <b>There is NO link to the data.</b>\n",
    "</p>"
   ]
  },
  {
   "cell_type": "markdown",
   "id": "44c550c0-5df4-47c2-b752-bab2c1aca81d",
   "metadata": {},
   "source": [
    "---\n",
    "## PyVO\n",
    "We use the SIA protocol to find images"
   ]
  },
  {
   "cell_type": "code",
   "execution_count": 7,
   "id": "6f850f12-e6b0-4dc3-a95f-cc57c1e2fc99",
   "metadata": {},
   "outputs": [],
   "source": [
    "# these will be used by all archive queries below\n",
    "services = pyvo.regsearch(servicetype='image')\n",
    "pos = coord.SkyCoord.from_name(\"ngc 4151\")"
   ]
  },
  {
   "cell_type": "markdown",
   "id": "b1a91cb0-f274-40f1-abaa-a0636ade6459",
   "metadata": {},
   "source": [
    "### Heasarc"
   ]
  },
  {
   "cell_type": "code",
   "execution_count": 8,
   "id": "e6f9572e-1c9f-45be-9485-835607cb4fca",
   "metadata": {},
   "outputs": [
    {
     "name": "stdout",
     "output_type": "stream",
     "text": [
      "https://heasarc.gsfc.nasa.gov/xamin/vo/sia?table=chanmaster&\n"
     ]
    }
   ],
   "source": [
    "# we use chanmaster data\n",
    "svc_heasarc = [s for s in services if 'heasarc' in s.ivoid][2]\n",
    "print(svc_heasarc.access_url)"
   ]
  },
  {
   "cell_type": "code",
   "execution_count": 9,
   "id": "dba75d3b-1724-443c-badf-2d19c81fed69",
   "metadata": {},
   "outputs": [],
   "source": [
    "# search for the source\n",
    "vo_res_heasarc = svc_heasarc.search(pos=pos)"
   ]
  },
  {
   "cell_type": "code",
   "execution_count": 10,
   "id": "211ef422-d438-4bfd-9d1d-e6543b6776a3",
   "metadata": {},
   "outputs": [
    {
     "name": "stdout",
     "output_type": "stream",
     "text": [
      "('obsid', 'status', 'name', 'ra', 'dec', 'time', 'detector', 'grating', 'exposure', 'type', 'pi', 'public_date', 'datalink', 't_min', 't_resolution', 't_max', 't_exptime', 'em_res_power', 's_ra', 's_dec', 's_resolution', 'access_estsize', 's_fov', 's_region', 'o_ucd', 'access_url', 'obs_publisher_did', 'dataproduct_type', 'obs_id', 'obs_collection', 'target_name', 'instrument_name', 'facility_name', 'pol_states', 'calib_level', 'access_format', 'em_min', 'em_max', 'SIA_title', 'SIA_scale', 'SIA_naxis', 'SIA_naxes', 'SIA_format', 'SIA_reference', 'SIA_ra', 'SIA_dec', 'SIA_instrument')\n"
     ]
    }
   ],
   "source": [
    "print(vo_res_heasarc.fieldnames)"
   ]
  },
  {
   "cell_type": "markdown",
   "id": "8850208b-0d4e-40d6-845a-e49362550dfa",
   "metadata": {},
   "source": [
    "<br/>\n",
    "These tables have a `access_url` field that can used to download the data\n"
   ]
  },
  {
   "cell_type": "code",
   "execution_count": 11,
   "id": "9f8029d4-b19a-4776-9637-e42bd6a808d2",
   "metadata": {},
   "outputs": [
    {
     "name": "stdout",
     "output_type": "stream",
     "text": [
      "['https://heasarc.gsfc.nasa.gov/FTP/chandra/data/byobsid/8/15158/primary/acisf15158N003_cntr_img2.fits.gz'\n",
      " 'https://heasarc.gsfc.nasa.gov/FTP/chandra/data/byobsid/8/15158/primary/acisf15158N003_cntr_img2.jpg'\n",
      " 'https://heasarc.gsfc.nasa.gov/FTP/chandra/data/byobsid/0/3480/primary/acisf03480N004_cntr_img2.jpg']\n"
     ]
    }
   ],
   "source": [
    "print(vo_res_heasarc['access_url'][:3])"
   ]
  },
  {
   "cell_type": "code",
   "execution_count": 12,
   "id": "cce987d3-82c6-4851-9ae0-4663fa2f6f47",
   "metadata": {},
   "outputs": [],
   "source": [
    "#download_file(vo_res_heasarc[0]['access_url'])"
   ]
  },
  {
   "cell_type": "markdown",
   "id": "0a3b997b-bdf2-4f61-ac7e-af9d7edc2341",
   "metadata": {},
   "source": [
    "<br/>\n",
    "In this case, the service also provides a datalinks for each row, which provide many data products that are related to the selected row.\n"
   ]
  },
  {
   "cell_type": "code",
   "execution_count": 13,
   "id": "b19c0b2d-d7e3-4c50-baae-639124e25d40",
   "metadata": {},
   "outputs": [
    {
     "name": "stdout",
     "output_type": "stream",
     "text": [
      "['https://heasarc.gsfc.nasa.gov/FTP/chandra/data/byobsid/8//15158/primary/acisf15158N003_cntr_img2.fits.gz'\n",
      " 'https://heasarc.gsfc.nasa.gov/FTP/chandra/data/byobsid/8//15158/primary/acisf15158N003_full_img2.fits.gz'\n",
      " 'https://heasarc.gsfc.nasa.gov/FTP/chandra/data/byobsid/8//15158/primary/acisf15158N003_cntr_img2.jpg'\n",
      " 'https://heasarc.gsfc.nasa.gov/FTP/chandra/data/byobsid/8//15158/primary/acisf15158N003_full_img2.jpg']\n"
     ]
    }
   ],
   "source": [
    "# and we can get the datalinks\n",
    "dl_heasarc = vo_res_heasarc[0].getdatalink()\n",
    "print(dl_heasarc['access_url'])"
   ]
  },
  {
   "cell_type": "markdown",
   "id": "3691b216-f7be-4d61-a83f-689c4687e561",
   "metadata": {},
   "source": [
    "<br/>\n",
    "\n",
    "<p style=\"background:#dfd;border-color:#afa;border-style: solid;padding:10px\">\n",
    "This means that the archive can serve the cloud link, when available, as another datalink for each search row. There is a lot of flexibility here, as one can add as many datalinks as needed.\n",
    "</p>"
   ]
  },
  {
   "cell_type": "markdown",
   "id": "473c50a0-99f8-41bc-8b59-68b0e18f2859",
   "metadata": {},
   "source": [
    "### Mast"
   ]
  },
  {
   "cell_type": "code",
   "execution_count": 14,
   "id": "f5991e58-24e6-4293-858e-6587f401dc5d",
   "metadata": {},
   "outputs": [
    {
     "name": "stdout",
     "output_type": "stream",
     "text": [
      "https://mast.stsci.edu/portal/Mashup/VoQuery.asmx/SiaV1?MISSION=GALEX&\n"
     ]
    }
   ],
   "source": [
    "#[s.ivoid for s in services if 'stsci' in s.ivoid]\n",
    "# galex\n",
    "svc_mast = [s for s in services if 'stsci' in s.ivoid][2]\n",
    "print(svc_mast.access_url)"
   ]
  },
  {
   "cell_type": "code",
   "execution_count": 15,
   "id": "12c65f3c-92a7-4f82-815b-d76971edf037",
   "metadata": {},
   "outputs": [
    {
     "name": "stdout",
     "output_type": "stream",
     "text": [
      "('collection', 'insname', 'name', 'trgPosRA', 'trgPosDec', 'contentlength', 'midpoint', 'naxes', 'naxis', 'scale', 'contenttype', 'coordFrame', 'projection', 'crpix', 'crval', 'cdmatrix', 'enremband', 'enrUnits', 'enrValue', 'enrMax', 'enrMin', 'accessURL')\n"
     ]
    }
   ],
   "source": [
    "vo_res_mast = svc_mast.search(pos=pos)\n",
    "print(vo_res_mast.fieldnames)"
   ]
  },
  {
   "cell_type": "markdown",
   "id": "0134b3af-df72-461d-bb3b-a392beb33b52",
   "metadata": {},
   "source": [
    "<br/>\n",
    "\n",
    "These tables have a `accessURL` field that can used to download the data\n"
   ]
  },
  {
   "cell_type": "code",
   "execution_count": 16,
   "id": "20c9846d-cc0b-4132-928a-66ca4ca7dd62",
   "metadata": {},
   "outputs": [
    {
     "name": "stdout",
     "output_type": "stream",
     "text": [
      "['http://galex.stsci.edu/data/GR6/pipe/02-vsn/50107-AIS_107/d/00-visits/0001-img/07-try/qa/AIS_107_0001_sg66-xd-int_2color.jpg'\n",
      " 'http://galex.stsci.edu/data/GR6/pipe/02-vsn/50107-AIS_107/d/00-visits/0001-img/07-try/qa/AIS_107_0001_sg66-xd-int_2color_large.jpg'\n",
      " 'http://galex.stsci.edu/data/GR6/pipe/02-vsn/50107-AIS_107/d/00-visits/0001-img/07-try/qa/AIS_107_0001_sg55-xd-int_2color.jpg']\n"
     ]
    }
   ],
   "source": [
    "print(vo_res_mast['accessURL'][:3])"
   ]
  },
  {
   "cell_type": "code",
   "execution_count": 17,
   "id": "c0d4d16a-1482-4c9d-b089-7966e3865309",
   "metadata": {},
   "outputs": [],
   "source": [
    "# download_file(vo_res_mast[0]['accessURL'])"
   ]
  },
  {
   "cell_type": "markdown",
   "id": "cb964b30-7f9f-446f-a991-897063018df3",
   "metadata": {},
   "source": [
    "<br/>\n",
    "\n",
    "<p style=\"background:#dfd;border-color:#afa;border-style: solid;padding:10px\">\n",
    "These don't provide any datalinks. Cloud links may need datalinks to be implemented, or some API that translates the http link to a cloud access, somewhat similar to the one currently implimented by astroquery.mast\n",
    "</p>"
   ]
  },
  {
   "cell_type": "markdown",
   "id": "09e27632-65cb-42a8-ab5f-9e1344bb61e6",
   "metadata": {},
   "source": [
    "### Irsa"
   ]
  },
  {
   "cell_type": "code",
   "execution_count": 18,
   "id": "b3484234-df0a-4c2a-a6c2-d49f0e4406c4",
   "metadata": {},
   "outputs": [
    {
     "name": "stdout",
     "output_type": "stream",
     "text": [
      "https://irsa.ipac.caltech.edu/ibe/sia/wise/allwise/p3am_cdd?\n"
     ]
    }
   ],
   "source": [
    "#[s.ivoid for s in services if 'irsa' in s.ivoid and 'wise/images/allwise/l3a' in s.ivoid]\n",
    "# wise\n",
    "svc_irsa = [s for s in services if 'irsa' in s.ivoid and 'wise/images/allwise/l3a' in s.ivoid][0]\n",
    "print(svc_irsa.access_url)"
   ]
  },
  {
   "cell_type": "code",
   "execution_count": 19,
   "id": "d31a94f2-293f-41fb-b498-7f236e9ae9c3",
   "metadata": {},
   "outputs": [
    {
     "name": "stdout",
     "output_type": "stream",
     "text": [
      "('sia_title', 'sia_url', 'sia_naxes', 'sia_fmt', 'sia_ra', 'sia_dec', 'sia_naxis', 'sia_crpix', 'sia_crval', 'sia_proj', 'sia_scale', 'sia_cd', 'sia_bp_id', 'sia_bp_ref', 'sia_bp_hi', 'sia_bp_lo', 'magzp', 'magzpunc', 'unc_url', 'cov_url', 'coadd_id')\n"
     ]
    }
   ],
   "source": [
    "vo_res_irsa = svc_irsa.search(pos=pos)\n",
    "print(vo_res_irsa.fieldnames)"
   ]
  },
  {
   "cell_type": "markdown",
   "id": "5018e338-56d9-4d77-ad63-23cad6371759",
   "metadata": {},
   "source": [
    "<br/>\n",
    "\n",
    "These tables have a `sia_url` field that can used to download the data\n"
   ]
  },
  {
   "cell_type": "code",
   "execution_count": 20,
   "id": "55e162e6-31e4-42b7-a934-d12950b0ab00",
   "metadata": {},
   "outputs": [
    {
     "name": "stdout",
     "output_type": "stream",
     "text": [
      "['https://irsa.ipac.caltech.edu/ibe/data/wise/allwise/p3am_cdd/18/1838/1838p393_ac51/1838p393_ac51-w1-int-3.fits'\n",
      " 'https://irsa.ipac.caltech.edu/ibe/data/wise/allwise/p3am_cdd/18/1838/1838p393_ac51/1838p393_ac51-w3-int-3.fits'\n",
      " 'https://irsa.ipac.caltech.edu/ibe/data/wise/allwise/p3am_cdd/18/1838/1838p393_ac51/1838p393_ac51-w2-int-3.fits']\n"
     ]
    }
   ],
   "source": [
    "print(vo_res_irsa['sia_url'][:3])"
   ]
  },
  {
   "cell_type": "code",
   "execution_count": 21,
   "id": "465157fd-d9b1-4037-9e7f-ad601141a52f",
   "metadata": {},
   "outputs": [],
   "source": [
    "# download_file(vo_res_irsa[0]['sia_url'])"
   ]
  },
  {
   "cell_type": "markdown",
   "id": "003aa244-8409-45c8-9e36-7b5baaf5cc80",
   "metadata": {},
   "source": [
    "<br/>\n",
    "\n",
    "<p style=\"background:#dfd;border-color:#afa;border-style: solid;padding:10px\">\n",
    "Similar to MAST, there are no datalinks. Cloud links may need datalinks to be implemented, or some API that translates the http link to a cloud link, somewhat similar to the one currently implimented by astroquery.mast.\n",
    "</p>"
   ]
  }
 ],
 "metadata": {
  "kernelspec": {
   "display_name": "Python 3 (ipykernel)",
   "language": "python",
   "name": "python3"
  },
  "language_info": {
   "codemirror_mode": {
    "name": "ipython",
    "version": 3
   },
   "file_extension": ".py",
   "mimetype": "text/x-python",
   "name": "python",
   "nbconvert_exporter": "python",
   "pygments_lexer": "ipython3",
   "version": "3.9.7"
  }
 },
 "nbformat": 4,
 "nbformat_minor": 5
}
