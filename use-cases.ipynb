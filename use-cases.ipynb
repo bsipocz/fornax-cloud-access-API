{
 "cells": [
  {
   "cell_type": "code",
   "execution_count": null,
   "id": "f9010b68-b590-4dde-a869-5583afada6cc",
   "metadata": {},
   "outputs": [],
   "source": [
    "## setup the notebook\n",
    "\n",
    "%load_ext autoreload\n",
    "%autoreload 2\n",
    "\n",
    "import sys\n",
    "import os\n",
    "import astropy.coordinates as coord\n",
    "import pyvo\n",
    "sys.path.insert(0, os.getcwd())\n",
    "import fornax\n",
    "print(f'\\nUsing fornax library in: {fornax.__file__}\\n')\n",
    "pos = coord.SkyCoord.from_name(\"ngc 4151\")\n"
   ]
  },
  {
   "cell_type": "markdown",
   "id": "f2bf7bbd-0cd6-42bf-984f-7ce16248a968",
   "metadata": {},
   "source": [
    "---\n",
    "# A Simple User Case:\n",
    "Simple case of\n",
    "> user does a query to on prem service, gets addresses for where a file lives (both on prem and S3), user manually specifies to get file from cloud, and downloads/reads it.  (First step before doing anything smart inside the code with geolocation or bucket policies.)  "
   ]
  },
  {
   "cell_type": "code",
   "execution_count": null,
   "id": "4de43743-5ef4-4866-9fa9-36ffbd76e2e6",
   "metadata": {},
   "outputs": [],
   "source": [
    "# Query data provider \n",
    "query_url = 'https://mast.stsci.edu/portal_vo/Mashup/VoQuery.asmx/SiaV1?MISSION=HST&'\n",
    "query_result = pyvo.dal.sia.search(query_url, pos=pos, size=0.0)\n",
    "table_result = query_result.to_table()\n",
    "col_name = query_result.fieldname_with_ucd('VOX:Image_AccessReference')\n",
    "data_product = table_result[0]\n",
    "\n",
    "\n",
    "# get on-prem data\n",
    "prem_handle = fornax.get_data_product(data_product, access_url_column=col_name)\n",
    "prem_handle.download()\n",
    "\n",
    "\n",
    "# Get aws data\n",
    "aws_handle = fornax.get_data_product(data_product, 'aws', access_url_column=col_name)\n",
    "aws_handle.download()"
   ]
  },
  {
   "cell_type": "markdown",
   "id": "18a4bf5e-5345-43ba-baa3-c00c1f77baa6",
   "metadata": {
    "tags": []
   },
   "source": [
    "---\n",
    "\n",
    "# Cloud access use cases:\n",
    "Here we document the use cases that this library handles, raised in issue #1, and usage examples.\n",
    "\n",
    "\n",
    "## 1. Public Data\n",
    "Public data is, by definition, accessible from anywhere. The user needs not be on AWS. \n",
    "\n",
    "The information that the data is public is provided as part of the data product metadata.\n",
    "\n",
    "- **Example:** HST data on the space selescope open data bucket `stpubdata`.\n",
    "- **Authentication:** Not needed.\n",
    "- **Run on:** Anywhere (AWS or local)."
   ]
  },
  {
   "cell_type": "code",
   "execution_count": null,
   "id": "2c4353be-7aff-44a2-b80f-a16bd1a16704",
   "metadata": {},
   "outputs": [],
   "source": [
    "query_url = 'https://mast.stsci.edu/portal_vo/Mashup/VoQuery.asmx/SiaV1?MISSION=HST&'\n",
    "query_result = pyvo.dal.sia.search(query_url, pos=pos, size=0.0)\n",
    "table_result = query_result.to_table()\n",
    "col_name = query_result.fieldname_with_ucd('VOX:Image_AccessReference')\n",
    "data_product = table_result[0]\n",
    "\n",
    "fornax.get_data_product(data_product, 'aws', access_url_column=col_name)"
   ]
  },
  {
   "cell_type": "markdown",
   "id": "6451adbc-94bd-43f2-8161-231330b3273c",
   "metadata": {},
   "source": [
    "This is another example using data configured from daskhub:\n",
    "\n",
    "- **Example:** Accessing chandra data from `dh-fornaxdev-public`.\n",
    "- **Authentication:** Not needed.\n",
    "- **Run on:** Anywhere (AWS or local).\n",
    "\n",
    "Note that here, we are injecting the name of the bucket in the code rather than changing the server response. This is a quicker way to do it."
   ]
  },
  {
   "cell_type": "code",
   "execution_count": null,
   "id": "389a6e64-ed4e-4b94-9e7d-6fe010ab8c9a",
   "metadata": {},
   "outputs": [],
   "source": [
    "query_url = 'https://heasarc.gsfc.nasa.gov/xamin_aws/vo/sia?table=chanmaster&'\n",
    "query_result = pyvo.dal.sia.search(query_url, pos=pos, size=0.0)\n",
    "table_result = query_result.to_table()\n",
    "col_name = query_result.fieldname_with_ucd('VOX:Image_AccessReference')\n",
    "data_product = table_result[0]\n",
    "\n",
    "\n",
    "data_product['cloud_access'] = data_product['cloud_access'].replace(\n",
    "    'dh-fornaxdev', 'dh-fornaxdev-public').replace(\n",
    "    '\"access\": \"region\"', '\"access\": \"open\"')\n",
    "fornax.get_data_product(data_product, 'aws', access_url_column=col_name)"
   ]
  },
  {
   "cell_type": "markdown",
   "id": "43d7bd9d-70be-4b56-a451-aef00de78c59",
   "metadata": {},
   "source": [
    "<br />\n",
    "\n",
    "## 2. Restricted Data\n",
    "This is the case where data access is allowed only when the user is authenticated and has access rights to the data. The data `access` mode should be `'restricted'`.\n",
    "\n",
    "<p style='color:red; font-size:22px; style:bold; background:yellow'> Note:</p>\n",
    "we don't yet have a strictly region-restricted bucket and therefore `access` mode `'region'`, where access to the bucket would region-restricted, cannot really be tested at the moment.\n",
    "\n",
    "\n",
    "### 2.1 No Credentials Provided\n",
    "- **Example:** Data in `dh-fornaxdev`\n",
    "- **Authentication:** Not provided.\n",
    "- **Run on:** If run outside daskhub, it should fail. If run in daskhub, we have credentials in the environment, so we fall back to **section 2.2.1**."
   ]
  },
  {
   "cell_type": "code",
   "execution_count": null,
   "id": "0c26c14f-14ef-4637-89c4-fbb847028c4d",
   "metadata": {},
   "outputs": [],
   "source": [
    "query_url = 'https://heasarc.gsfc.nasa.gov/xamin_aws/vo/sia?table=chanmaster&'\n",
    "query_result = pyvo.dal.sia.search(query_url, pos=pos, size=0.0)\n",
    "table_result = query_result.to_table()\n",
    "col_name = query_result.fieldname_with_ucd('VOX:Image_AccessReference')\n",
    "data_product = table_result[0]\n",
    "fornax.get_data_product(data_product, 'aws', access_url_column=col_name)"
   ]
  },
  {
   "cell_type": "markdown",
   "id": "29441ef1-7b5a-4e93-81d7-8fe7a440cf93",
   "metadata": {},
   "source": [
    "The message indicates that:\n",
    "- we tried accessing the data anonoymously, and we got a Forbidden (403)\n",
    "- next, we try searching for credentials in the environment variables, and that fails (unless we are inside daskhub, in which case, we use the environment credentials)."
   ]
  },
  {
   "cell_type": "markdown",
   "id": "7041c3de-8910-49cc-a531-c9376e94ef0a",
   "metadata": {},
   "source": [
    "---\n",
    "### 2.2 Credentials Provided\n",
    "\n",
    "#### 2.2.1 Credentials provided by the environment\n",
    "- **Example:** Data in `dh-fornaxdev`\n",
    "- **Authentication:** By the enivronment (`$AWS_ROLE_ARN`).\n",
    "- **Run on:** daskhub (No access outside daskhub)."
   ]
  },
  {
   "cell_type": "code",
   "execution_count": null,
   "id": "06c56dc4-9e65-4f7b-bcd5-bf398e6a5703",
   "metadata": {},
   "outputs": [],
   "source": [
    "query_url = 'https://heasarc.gsfc.nasa.gov/xamin_aws/vo/sia?table=chanmaster&'\n",
    "query_result = pyvo.dal.sia.search(query_url, pos=pos, size=0.0)\n",
    "table_result = query_result.to_table()\n",
    "col_name = query_result.fieldname_with_ucd('VOX:Image_AccessReference')\n",
    "data_product = table_result[0]\n",
    "fornax.get_data_product(data_product, 'aws', access_url_column=col_name)"
   ]
  },
  {
   "cell_type": "markdown",
   "id": "d6d1a81e-019a-44bc-81d5-c189a1528424",
   "metadata": {},
   "source": [
    "Another example using Spizter data in bucket `irsa-mast-tike-spitzer-data`. Here we use the IRSA SIA service and then add the `cloud_access` column by hand.\n",
    "\n",
    "- **Example:** Data in `irsa-mast-tike-spitzer-data`\n",
    "- **Authentication:** By the enivronment (`$AWS_ROLE_ARN`).\n",
    "- **Run on:** daskhub (No access outside daskhub)."
   ]
  },
  {
   "cell_type": "code",
   "execution_count": null,
   "id": "d48b2f00-0948-4d68-9991-e8deb6947185",
   "metadata": {},
   "outputs": [],
   "source": [
    "query_url = ('https://irsa.ipac.caltech.edu/cgi-bin/Atlas/nph-atlas?mission=SEIP&hdr_location='\n",
    "             '%5CSEIPDataPath%5C&SIAP_ACTIVE=1&collection_desc=SEIP&')\n",
    "query_result = pyvo.dal.sia.search(query_url, pos=coord.SkyCoord(151.1, 2.0, unit=\"deg\"), size=0.0)\n",
    "table_result = query_result.to_table()\n",
    "col_name = query_result.fieldname_with_ucd('VOX:Image_AccessReference')\n",
    "\n",
    "# inject the cloud_access column #\n",
    "urls = table_result['sia_url'].tolist()\n",
    "json_template = '{\"aws\": { \"bucket_name\": \"irsa-mast-tike-spitzer-data\", \"region\": \"us-east-1\", \"access\": \"restricted\", \"key\": \"%s\" }}'\n",
    "json_col = [json_template%('/'.join(u.split('/')[3:]) ) for u in urls]\n",
    "table_result.add_column(json_col, name='cloud_access')\n",
    "# ------------------------------ #\n",
    "\n",
    "data_product = table_result[30]\n",
    "fornax.get_data_product(data_product, 'aws', access_url_column=col_name)"
   ]
  },
  {
   "cell_type": "markdown",
   "id": "fa6de5ff-73c3-408c-9f91-af946842b0d7",
   "metadata": {},
   "source": [
    "#### 2.2.1 Credentials provided by the environment, example 2\n",
    "- **Example:** Data in `heasarc-1` (configured on NGAP). \n",
    "- **Authentication:** By the enivronment (`AWS_ACCESS_KEY_ID, AWS_SECRET_ACCESS_KEY and AWS_SESSION_TOKEN`).\n",
    "- **Run on:** Anywhere (No access if no credentials are provided).\n",
    "\n",
    "Note again, that the bucket name is injected in. the code rather than by modifying the server.\n",
    "\n",
    "If you have access to NGAP, then you can generate access credentials on Kion."
   ]
  },
  {
   "cell_type": "code",
   "execution_count": null,
   "id": "54dcfb94-c288-4a99-a986-d8b64381a1a3",
   "metadata": {},
   "outputs": [],
   "source": [
    "query_url = 'https://heasarc.gsfc.nasa.gov/xamin_aws/vo/sia?table=chanmaster&'\n",
    "query_result = pyvo.dal.sia.search(query_url, pos=pos, size=0.0)\n",
    "table_result = query_result.to_table()\n",
    "col_name = query_result.fieldname_with_ucd('VOX:Image_AccessReference')\n",
    "data_product = table_result[0]\n",
    "\n",
    "data_product['cloud_access'] = data_product['cloud_access'].replace(\n",
    "    'dh-fornaxdev', 'heasarc-1')\n",
    "\n",
    "fornax.get_data_product(data_product, 'aws', access_url_column=col_name)"
   ]
  },
  {
   "cell_type": "markdown",
   "id": "e7758684-80c8-44d0-8f70-1cf14d3e0abd",
   "metadata": {},
   "source": [
    "#### 2.2.1 Credentials provided by passing a `profile`.\n",
    "- **Example:** Data in `heasarc-1` (configured on NGAP). \n",
    "- **Authentication:** We use the profile name `ngap_user` in `~/.aws/credentials`. The file may look something like:\n",
    "```\n",
    "[ngap_user]\n",
    "aws_access_key_id=SOME_CODE\n",
    "aws_secret_access_key=SOME_CODE\n",
    "aws_session_token=SOME_CODE\n",
    "```\n",
    "- **Run on:** In principle anywhere, but may depend on the bucket policy. For `heasarc-1`, the bucket is configured to be accessible from anywhere if the user has the credentials.\n",
    "\n",
    "If you have access to NGAP, then you can generate access credentials on Kion."
   ]
  },
  {
   "cell_type": "code",
   "execution_count": null,
   "id": "76fc8a62-17b6-4142-bfae-67e80a581436",
   "metadata": {},
   "outputs": [],
   "source": [
    "query_url = 'https://heasarc.gsfc.nasa.gov/xamin_aws/vo/sia?table=chanmaster&'\n",
    "query_result = pyvo.dal.sia.search(query_url, pos=pos, size=0.0)\n",
    "table_result = query_result.to_table()\n",
    "col_name = query_result.fieldname_with_ucd('VOX:Image_AccessReference')\n",
    "data_product = table_result[0]\n",
    "\n",
    "data_product['cloud_access'] = data_product['cloud_access'].replace(\n",
    "    'dh-fornaxdev', 'heasarc-1')\n",
    "\n",
    "fornax.get_data_product(data_product, 'aws', access_url_column=col_name, profile='ngap_user')"
   ]
  },
  {
   "cell_type": "code",
   "execution_count": null,
   "id": "4cedf689-973e-42c2-badb-42dc7eb9b06f",
   "metadata": {},
   "outputs": [],
   "source": []
  }
 ],
 "metadata": {
  "kernelspec": {
   "display_name": "Python 3 (ipykernel)",
   "language": "python",
   "name": "python3"
  },
  "language_info": {
   "codemirror_mode": {
    "name": "ipython",
    "version": 3
   },
   "file_extension": ".py",
   "mimetype": "text/x-python",
   "name": "python",
   "nbconvert_exporter": "python",
   "pygments_lexer": "ipython3",
   "version": "3.9.7"
  }
 },
 "nbformat": 4,
 "nbformat_minor": 5
}
