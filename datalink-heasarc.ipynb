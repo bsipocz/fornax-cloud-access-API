{
 "cells": [
  {
   "cell_type": "markdown",
   "id": "3a6b07eb-d78b-4404-aa14-d7a4398bbd94",
   "metadata": {},
   "source": [
    "### 1. Introduction\n",
    "This notenbook contains a simple example of using datalinks to serve data from the cloud. \n",
    "\n",
    "This example uses the HEASARC SIA service. The changes needed on the server side for this to work are:\n",
    "\n",
    "---\n",
    "1. In the SIA (or any other service where datalinks can work), add a `<PARAM>` element inside the `<GROUP>` element in the `adhoc:service` `<RESOURCE>`, as defined in the [datalinks standars document](https://ivoa.net/documents/DataLink/20150617/REC-DataLink-1.0-20150617.html).\n",
    "The `<PARAM>` element have a name `source`, and contains sources from where the data can be accessed. The default is `main-server`, that indicates accessing data from on-prem servers.\n",
    "\n",
    "The following shows an example where the data can be access from four sources:\n",
    "\n",
    "    - On prem servers (`value=\"main-server\"`)\n",
    "    - AWS US east1 (value=\"aws:us-east1\")\n",
    "    - AWS US east2 (value=\"aws:us-east2\")\n",
    "    - Google Cloud (value=\"gc\").\n",
    "\n",
    "\n",
    "```xml\n",
    "<RESOURCE utype=\"adhoc:service\" type=\"meta\">\n",
    "    <PARAM datatype=\"char\" arraysize=\"*\" name=\"standardID\" value=\"ivo://ivoa.net/std/DataLink#links-1.0\"/>\n",
    "    <PARAM datatype=\"char\" arraysize=\"*\" name=\"accessURL\" value=\"http://localhost:8080/xamin/vo/datalink/chanmaster\"/>\n",
    "    <GROUP name=\"inputParams\">\n",
    "        <PARAM ref=\"DataLinkID\" datatype=\"char\" arraysize=\"*\" name=\"id\" value=\"\"/>\n",
    "        <PARAM datatype=\"char\" arraysize=\"*\" name=\"source\" value=\"main-server\">\n",
    "            <VALUES>\n",
    "                <OPTION name=\"On prem servers\" value=\"main-server\"/>\n",
    "                <OPTION name=\"AWS region 1\" value=\"aws:us-east1\"/>\n",
    "                <OPTION name=\"AWS some other region\" value=\"aws:us-east2\"/>\n",
    "                <OPTION name=\"GC some region\" value=\"gc\"/>\n",
    "            </VALUES>\n",
    "        </PARAM>\n",
    "    </GROUP>\n",
    "</RESOURCE>\n",
    "\n",
    "```\n",
    "\n",
    "---\n",
    "\n",
    "2. The datalink service should be able to interpret the `source` parameter that the clients sends with the datalink request, and serve the appropriate `access_url`. So a request to the datalink url with `&source=main-server` should give something like:\n",
    "\n",
    "```xml\n",
    "<TABLE>\n",
    "    <FIELD datatype=\"char\" arraysize=\"*\" ucd=\"meta.id;meta.main\" name=\"ID\"/>\n",
    "    <FIELD datatype=\"char\" arraysize=\"*\" ucd=\"meta.ref.url\" name=\"access_url\"/>\n",
    "    ...\n",
    "    <DATA>\n",
    "        <TABLEDATA>\n",
    "            <TR>\n",
    "                <TD>[SOME_ID]</TD>\n",
    "                <TD>https://someurl/path/to/some/file.fits</TD>\n",
    "                ...\n",
    "            </TR>\n",
    "        </TABLEDATA>\n",
    "    </DATA>\n",
    "</TABLE>\n",
    "```\n",
    "\n",
    "Passing `&source=aws:us-east1` for example would give:\n",
    "\n",
    "```xml\n",
    "<TABLE>\n",
    "    <FIELD datatype=\"char\" arraysize=\"*\" ucd=\"meta.id;meta.main\" name=\"ID\"/>\n",
    "    <FIELD datatype=\"char\" arraysize=\"*\" ucd=\"meta.ref.url\" name=\"access_url\"/>\n",
    "    ...\n",
    "    <DATA>\n",
    "        <TABLEDATA>\n",
    "            <TR>\n",
    "                <TD>[SOME_ID]</TD>\n",
    "                <TD>s3://somebucket/path/to/some/file.fits</TD>\n",
    "                ...\n",
    "            </TR>\n",
    "        </TABLEDATA>\n",
    "    </DATA>\n",
    "</TABLE>\n",
    "```\n",
    "\n",
    "---\n",
    "\n",
    "\n",
    "### 2. Setup an SIA Query\n"
   ]
  },
  {
   "cell_type": "code",
   "execution_count": 1,
   "id": "80e18a35-e088-4c62-8a5a-cc456518f8d3",
   "metadata": {},
   "outputs": [],
   "source": [
    "import pyvo\n",
    "from astropy.coordinates import SkyCoord\n",
    "\n",
    "# set some sky position to use in the queries\n",
    "pos = SkyCoord.from_name('NGC 4151')"
   ]
  },
  {
   "cell_type": "code",
   "execution_count": 2,
   "id": "7f5e4a08-f060-4251-a539-b2548d81158f",
   "metadata": {},
   "outputs": [],
   "source": [
    "# make a simple SIA query. If not the HEASARC, change sia_url.\n",
    "#xaminUrl = 'http://localhost:8080/xamin'\n",
    "xaminUrl = 'https://heasarc.gsfc.nasa.gov/xamin_aws'\n",
    "sia_url = f'{xaminUrl}/vo/sia?table=chanmaster'\n",
    "\n",
    "sia_result = pyvo.dal.sia.search(sia_url, pos=pos, resultmax=2)"
   ]
  },
  {
   "cell_type": "code",
   "execution_count": 3,
   "id": "050d2f7a-2dc2-4562-95f5-aee133c93d66",
   "metadata": {},
   "outputs": [
    {
     "data": {
      "text/html": [
       "<div><i>Table length=2</i>\n",
       "<table id=\"table5089544464\" class=\"table-striped table-bordered table-condensed\">\n",
       "<thead><tr><th>obsid</th><th>status</th><th>name</th><th>ra</th><th>dec</th><th>time</th><th>detector</th><th>grating</th><th>exposure</th><th>type</th><th>pi</th><th>public_date</th><th>datalink</th><th>t_min</th><th>t_resolution</th><th>t_max</th><th>t_exptime</th><th>em_res_power</th><th>s_region</th><th>s_ra</th><th>s_dec</th><th>s_resolution</th><th>access_estsize</th><th>s_fov</th><th>o_ucd</th><th>access_url</th><th>obs_publisher_did</th><th>obs_id</th><th>obs_collection</th><th>target_name</th><th>instrument_name</th><th>facility_name</th><th>pol_states</th><th>calib_level</th><th>access_format</th><th>dataproduct_type</th><th>em_min</th><th>em_max</th><th>SIA_title</th><th>SIA_scale</th><th>SIA_naxis</th><th>SIA_naxes</th><th>SIA_format</th><th>SIA_reference</th><th>SIA_ra</th><th>SIA_dec</th><th>SIA_instrument</th><th>cloud_access</th></tr></thead>\n",
       "<thead><tr><th></th><th></th><th></th><th>deg</th><th>deg</th><th>mjd</th><th></th><th></th><th>s</th><th></th><th></th><th>mjd</th><th></th><th>d</th><th>s</th><th>d</th><th>s</th><th></th><th>deg</th><th>deg</th><th>deg</th><th>arcsec</th><th>kbyte</th><th>deg</th><th></th><th></th><th></th><th></th><th></th><th></th><th></th><th></th><th></th><th></th><th></th><th></th><th>m</th><th>m</th><th></th><th></th><th></th><th></th><th></th><th></th><th></th><th></th><th></th><th></th></tr></thead>\n",
       "<thead><tr><th>object</th><th>object</th><th>object</th><th>float64</th><th>float64</th><th>float64</th><th>object</th><th>object</th><th>float64</th><th>object</th><th>object</th><th>int32</th><th>object</th><th>float64</th><th>float64</th><th>float64</th><th>float64</th><th>float64</th><th>object</th><th>float64</th><th>float64</th><th>float32</th><th>int32</th><th>float64</th><th>object</th><th>object</th><th>object</th><th>object</th><th>object</th><th>object</th><th>object</th><th>object</th><th>object</th><th>int32</th><th>object</th><th>object</th><th>float64</th><th>float64</th><th>object</th><th>object</th><th>object</th><th>int32</th><th>object</th><th>object</th><th>float64</th><th>float64</th><th>object</th><th>object</th></tr></thead>\n",
       "<tr><td>15158</td><td>archived</td><td>RBS1066</td><td>181.29000</td><td>39.34700</td><td>56363.8531</td><td>ACIS-I</td><td>NONE</td><td>8080</td><td>GO</td><td>Reiprich</td><td>56729</td><td>18244:chandra.obs.img</td><td>56363.8531481481</td><td>--</td><td>64443.8531481481</td><td>8080.0</td><td>--</td><td></td><td>181.29</td><td>39.347</td><td>--</td><td>32447</td><td>--</td><td></td><td>https://heasarc.gsfc.nasa.gov/FTP/chandra/data/byobsid/8/15158/primary/acisf15158N003_cntr_img2.fits.gz</td><td>HEASARC</td><td>15158</td><td>CHANDRA ACIS-I</td><td>RBS1066</td><td>ACIS-I</td><td>Chandra</td><td></td><td>3</td><td>image/fits</td><td>Image</td><td>1.24e-10</td><td>1.24e-08</td><td>acisf15158N003_cntr_img2.fits</td><td>[-0.0013666666666667 0.0013666666666667]</td><td>[1024 1024]</td><td>2</td><td>image/fits</td><td>https://heasarc.gsfc.nasa.gov/FTP/chandra/data/byobsid/8/15158/primary/acisf15158N003_cntr_img2.fits.gz</td><td>181.29</td><td>39.347</td><td>CHANDRA ACIS-I</td><td>{&quot;aws&quot;: {   &quot;bucket_name&quot;: &quot;dh-fornaxdev&quot;,   &quot;region&quot;: &quot;us-east-1&quot;,   &quot;access&quot;: &quot;region&quot;,   &quot;key&quot;: &quot;/FTP/chandra/data/byobsid/8/15158/primary/acisf15158N003_cntr_img2.fits.gz&quot; }}</td></tr>\n",
       "<tr><td>15158</td><td>archived</td><td>RBS1066</td><td>181.29000</td><td>39.34700</td><td>56363.8531</td><td>ACIS-I</td><td>NONE</td><td>8080</td><td>GO</td><td>Reiprich</td><td>56729</td><td>18244:chandra.obs.img</td><td>56363.8531481481</td><td>--</td><td>64443.8531481481</td><td>8080.0</td><td>--</td><td></td><td>181.29</td><td>39.347</td><td>--</td><td>228059</td><td>--</td><td></td><td>https://heasarc.gsfc.nasa.gov/FTP/chandra/data/byobsid/8/15158/primary/acisf15158N003_cntr_img2.jpg</td><td>HEASARC</td><td>15158</td><td>CHANDRA ACIS-I</td><td>RBS1066</td><td>ACIS-I</td><td>Chandra</td><td></td><td>3</td><td>image/jpeg</td><td>Image</td><td>1.24e-10</td><td>1.24e-08</td><td>acisf15158N003_cntr_img2.jpg</td><td>[-0.0013666666666667 0.0013666666666667]</td><td>[1024 1024]</td><td>2</td><td>image/jpeg</td><td>https://heasarc.gsfc.nasa.gov/FTP/chandra/data/byobsid/8/15158/primary/acisf15158N003_cntr_img2.jpg</td><td>181.29</td><td>39.347</td><td>CHANDRA ACIS-I</td><td>{&quot;aws&quot;: {   &quot;bucket_name&quot;: &quot;dh-fornaxdev&quot;,   &quot;region&quot;: &quot;us-east-1&quot;,   &quot;access&quot;: &quot;region&quot;,   &quot;key&quot;: &quot;/FTP/chandra/data/byobsid/8/15158/primary/acisf15158N003_cntr_img2.jpg&quot; }}</td></tr>\n",
       "</table></div>"
      ],
      "text/plain": [
       "<Table length=2>\n",
       "obsid  ...\n",
       "       ...\n",
       "object ...\n",
       "------ ...\n",
       " 15158 ...\n",
       " 15158 ..."
      ]
     },
     "execution_count": 3,
     "metadata": {},
     "output_type": "execute_result"
    }
   ],
   "source": [
    "# explore the returned SIA result\n",
    "#sia_result.votable.to_xml('sai_result.xml')\n",
    "sia_result.to_table()"
   ]
  },
  {
   "cell_type": "markdown",
   "id": "8ac59ea5-9179-42c6-997e-81fb50baaaee",
   "metadata": {},
   "source": [
    "### 3. A Standard Datalink Query from the SIA Result"
   ]
  },
  {
   "cell_type": "code",
   "execution_count": 4,
   "id": "df7bd52e-417f-4c3d-ba64-35c1331102ad",
   "metadata": {},
   "outputs": [
    {
     "data": {
      "text/html": [
       "<div><i>Table length=4</i>\n",
       "<table id=\"table5089872144\" class=\"table-striped table-bordered table-condensed\">\n",
       "<thead><tr><th>ID</th><th>access_url</th><th>service_def</th><th>error_message</th><th>description</th><th>semantics</th><th>content_type</th><th>content_length</th><th>cloud_access</th></tr></thead>\n",
       "<thead><tr><th></th><th></th><th></th><th></th><th></th><th></th><th></th><th>byte</th><th></th></tr></thead>\n",
       "<thead><tr><th>object</th><th>object</th><th>object</th><th>object</th><th>object</th><th>object</th><th>object</th><th>int64</th><th>object</th></tr></thead>\n",
       "<tr><td>18244:chandra.obs.img</td><td>https://heasarc.gsfc.nasa.gov/FTP/chandra/data/byobsid/8//15158/primary/acisf15158N003_cntr_img2.fits.gz</td><td></td><td></td><td>Center Image</td><td>https://localhost:8080/xamin/jsp/products.jsp#chandra.obs.img.cntr.fits</td><td>application/fits</td><td>--</td><td>{&quot;aws&quot;: {   &quot;bucket_name&quot;: &quot;dh-fornaxdev&quot;,   &quot;region&quot;: &quot;us-east-1&quot;,   &quot;access&quot;: &quot;region&quot;,   &quot;key&quot;: &quot;/FTP/chandra/data/byobsid/8//15158/primary/acisf15158N003_cntr_img2.fits.gz&quot; }}</td></tr>\n",
       "<tr><td>18244:chandra.obs.img</td><td>https://heasarc.gsfc.nasa.gov/FTP/chandra/data/byobsid/8//15158/primary/acisf15158N003_full_img2.fits.gz</td><td></td><td></td><td>Full Image</td><td>https://localhost:8080/xamin/jsp/products.jsp#chandra.obs.img.full.fits</td><td>application/fits</td><td>--</td><td>{&quot;aws&quot;: {   &quot;bucket_name&quot;: &quot;dh-fornaxdev&quot;,   &quot;region&quot;: &quot;us-east-1&quot;,   &quot;access&quot;: &quot;region&quot;,   &quot;key&quot;: &quot;/FTP/chandra/data/byobsid/8//15158/primary/acisf15158N003_full_img2.fits.gz&quot; }}</td></tr>\n",
       "<tr><td>18244:chandra.obs.img</td><td>https://heasarc.gsfc.nasa.gov/FTP/chandra/data/byobsid/8//15158/primary/acisf15158N003_cntr_img2.jpg</td><td></td><td></td><td>Center Image</td><td>https://localhost:8080/xamin/jsp/products.jsp#chandra.obs.img.cntr.jpg</td><td>image/jpeg</td><td>--</td><td>{&quot;aws&quot;: {   &quot;bucket_name&quot;: &quot;dh-fornaxdev&quot;,   &quot;region&quot;: &quot;us-east-1&quot;,   &quot;access&quot;: &quot;region&quot;,   &quot;key&quot;: &quot;/FTP/chandra/data/byobsid/8//15158/primary/acisf15158N003_cntr_img2.jpg&quot; }}</td></tr>\n",
       "<tr><td>18244:chandra.obs.img</td><td>https://heasarc.gsfc.nasa.gov/FTP/chandra/data/byobsid/8//15158/primary/acisf15158N003_full_img2.jpg</td><td></td><td></td><td>Full Image</td><td>https://localhost:8080/xamin/jsp/products.jsp#chandra.obs.img.full.jpg</td><td>image/jpeg</td><td>--</td><td>{&quot;aws&quot;: {   &quot;bucket_name&quot;: &quot;dh-fornaxdev&quot;,   &quot;region&quot;: &quot;us-east-1&quot;,   &quot;access&quot;: &quot;region&quot;,   &quot;key&quot;: &quot;/FTP/chandra/data/byobsid/8//15158/primary/acisf15158N003_full_img2.jpg&quot; }}</td></tr>\n",
       "</table></div>"
      ],
      "text/plain": [
       "<Table length=4>\n",
       "          ID          ...\n",
       "                      ...\n",
       "        object        ...\n",
       "--------------------- ...\n",
       "18244:chandra.obs.img ...\n",
       "18244:chandra.obs.img ...\n",
       "18244:chandra.obs.img ...\n",
       "18244:chandra.obs.img ..."
      ]
     },
     "execution_count": 4,
     "metadata": {},
     "output_type": "execute_result"
    }
   ],
   "source": [
    "# get the datalink for the first row\n",
    "dlink = sia_result[0].getdatalink()\n",
    "\n",
    "# explore the returned datalink result\n",
    "#dlink.votable.to_xml('datalink_result.xml')\n",
    "dlink.to_table()"
   ]
  },
  {
   "cell_type": "markdown",
   "id": "5cb57c70-3e66-42d4-8087-1de5227376b9",
   "metadata": {},
   "source": [
    "### 4. Process the New Cloud Information\n",
    "Read the cloud information from the datalink resource in the SIA result. \n",
    "\n",
    "This is done by exposing what `getdatalink()` does inside `pyvo`, and we add the part that processes the extra parameters"
   ]
  },
  {
   "cell_type": "code",
   "execution_count": 5,
   "id": "cf18d5b2-0831-4c41-8d23-3513b15d9108",
   "metadata": {},
   "outputs": [
    {
     "name": "stdout",
     "output_type": "stream",
     "text": [
      "<class 'astropy.io.votable.tree.Param'>\n",
      "<PARAM ID=\"source\" arraysize=\"*\" datatype=\"char\" name=\"source\" value=\"main-server\"/>\n"
     ]
    }
   ],
   "source": [
    "# expose what goes on inside pyvo when doing getdatalink()\n",
    "dlink_resource = sia_result.get_adhocservice_by_ivoid(pyvo.dal.adhoc.DATALINK_IVOID)\n",
    "\n",
    "# Look for the 'source' <PARAM> element inside the inputParams <GROUP> element.\n",
    "# pyvo already handles part of this.\n",
    "source_elem = [p for p in dlink_resource.groups[0].entries if p.name == 'source'][0]\n",
    "print(type(source_elem))\n",
    "print(source_elem)"
   ]
  },
  {
   "cell_type": "code",
   "execution_count": 6,
   "id": "0a00b95e-175e-44b1-96ed-25a77138aa5f",
   "metadata": {},
   "outputs": [
    {
     "name": "stdout",
     "output_type": "stream",
     "text": [
      "There are 4 options:\n",
      "\tmain-server  : On prem servers\n",
      "\taws:us-east1 : AWS region 1\n",
      "\taws:us-east2 : AWS some other region\n",
      "\tgc           : GC some region\n"
     ]
    }
   ],
   "source": [
    "# list the available options in the `source` element:\n",
    "access_options = source_elem.values.options\n",
    "\n",
    "print(f'There are {len(access_options)} options:')\n",
    "for opt in access_options:\n",
    "    print(f'\\t{opt[1]:13}: {opt[0]}')"
   ]
  },
  {
   "cell_type": "markdown",
   "id": "a8935b10-9aea-46ed-9193-3513e08b491f",
   "metadata": {},
   "source": [
    "---\n",
    "\n",
    "Given these options, we can query for the datalink we want by including the parameter `source` in the query, where its value takes one of the options in `access_options`\n",
    "\n",
    "#### a. Use the `main-server` option (default):"
   ]
  },
  {
   "cell_type": "code",
   "execution_count": 7,
   "id": "140037a7-feed-4c67-bf38-babbb9a533b6",
   "metadata": {},
   "outputs": [
    {
     "name": "stdout",
     "output_type": "stream",
     "text": [
      "access option: main-server\n",
      "access_url: \n",
      "https://heasarc.gsfc.nasa.gov/FTP/chandra/data/byobsid/8//15158/primary/acisf15158N003_cntr_img2.fits.gz\n"
     ]
    }
   ],
   "source": [
    "## main-server; this is the default\n",
    "source_1 = access_options[0][1]\n",
    "query_1  = pyvo.dal.adhoc.DatalinkQuery.from_resource(\n",
    "                sia_result[0], dlink_resource, sia_result._session, source=source_1\n",
    "            )\n",
    "result_1 = query_1.execute()\n",
    "\n",
    "print(f'access option: {source_1}')\n",
    "print('access_url: ')\n",
    "print(result_1[0].access_url)"
   ]
  },
  {
   "cell_type": "markdown",
   "id": "a9d37c58-8347-4840-92aa-20e017d035e7",
   "metadata": {},
   "source": [
    "#### b. Use the `aws:us-east1` option:\n",
    "Note that `access_url` is now an s3 uri."
   ]
  },
  {
   "cell_type": "code",
   "execution_count": 8,
   "id": "6b3f701f-761d-4efd-bf9a-b89c880284c9",
   "metadata": {},
   "outputs": [
    {
     "name": "stdout",
     "output_type": "stream",
     "text": [
      "access option: aws:us-east1\n",
      "access_url: \n",
      "s3://dh-fornaxdev/FTP/chandra/data/byobsid/8//15158/primary/acisf15158N003_cntr_img2.fits.gz\n"
     ]
    }
   ],
   "source": [
    "## aws:us-east1\n",
    "source_2 = access_options[1][1]\n",
    "query_2  = pyvo.dal.adhoc.DatalinkQuery.from_resource(\n",
    "                sia_result[0], dlink_resource, sia_result._session, source=source_2\n",
    "            )\n",
    "result_2 = query_2.execute()\n",
    "\n",
    "print(f'access option: {source_2}')\n",
    "print('access_url: ')\n",
    "print(result_2[0].access_url)"
   ]
  },
  {
   "cell_type": "markdown",
   "id": "bea40bb3-9d32-4416-9bb7-5eeb9a1d8c10",
   "metadata": {},
   "source": [
    "#### c. Use `gc` option:\n",
    "This is not supported, so we fall back to the default"
   ]
  },
  {
   "cell_type": "code",
   "execution_count": 9,
   "id": "3d341e69-ff40-41ab-b1a5-05131d2b3be3",
   "metadata": {},
   "outputs": [
    {
     "name": "stdout",
     "output_type": "stream",
     "text": [
      "access option: gc\n",
      "access_url: \n",
      "https://heasarc.gsfc.nasa.gov/FTP/chandra/data/byobsid/8//15158/primary/acisf15158N003_cntr_img2.fits.gz\n"
     ]
    }
   ],
   "source": [
    "## gc; GC is not implemented so the server defaults http from main server\n",
    "source_3 = access_options[3][1]\n",
    "query_3  = pyvo.dal.adhoc.DatalinkQuery.from_resource(\n",
    "                sia_result[0], dlink_resource, sia_result._session, source=source_3\n",
    "            )\n",
    "result_3 = query_3.execute()\n",
    "\n",
    "print(f'access option: {source_3}')\n",
    "print('access_url: ')\n",
    "print(result_3[0].access_url)"
   ]
  },
  {
   "cell_type": "code",
   "execution_count": null,
   "id": "a7f7f389-29f7-4552-bc2f-f2af3d8492d3",
   "metadata": {},
   "outputs": [],
   "source": []
  }
 ],
 "metadata": {
  "kernelspec": {
   "display_name": "Python 3 (ipykernel)",
   "language": "python",
   "name": "python3"
  },
  "language_info": {
   "codemirror_mode": {
    "name": "ipython",
    "version": 3
   },
   "file_extension": ".py",
   "mimetype": "text/x-python",
   "name": "python",
   "nbconvert_exporter": "python",
   "pygments_lexer": "ipython3",
   "version": "3.9.10"
  }
 },
 "nbformat": 4,
 "nbformat_minor": 5
}
